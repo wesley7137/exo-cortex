{
 "cells": [
  {
   "cell_type": "code",
   "execution_count": 1,
   "metadata": {},
   "outputs": [
    {
     "name": "stderr",
     "output_type": "stream",
     "text": [
      "The attention mask is not set and cannot be inferred from input because pad token is same as eos token. As a consequence, you may observe unexpected behavior. Please pass your input's `attention_mask` to obtain reliable results.\n",
      "c:\\Users\\wes\\Miniconda3\\envs\\gnn\\Lib\\site-packages\\transformers\\models\\llama\\modeling_llama.py:655: UserWarning: 1Torch was not compiled with flash attention. (Triggered internally at C:\\cb\\pytorch_1000000000000\\work\\aten\\src\\ATen\\native\\transformers\\cuda\\sdp_utils.cpp:555.)\n",
      "  attn_output = torch.nn.functional.scaled_dot_product_attention(\n",
      "Starting from v4.46, the `logits` model output will have the same type as the model (except at train time, where it will always be FP32)\n"
     ]
    },
    {
     "name": "stdout",
     "output_type": "stream",
     "text": [
      "<|im_start|>system\n",
      "You are a helpful AI assistant named SmolLM, trained by Hugging Face<|im_end|>\n",
      "<|im_start|>user\n",
      "I need you to assist me in my research. I'm researching aging and longevity. I'm looking for a way to extend human lifespan. What are the most promising areas of research in this field?<|im_end|>\n",
      "<|im_start|>assistant\n",
      "Sure, I'd be happy to help you with your research on aging and longevity. Here are some of the most promising areas of research in this field:\n",
      "\n",
      "1. Telomere Length: Telomeres are the protective caps on the ends of chromosomes. They shorten with each cell division, and when they reach a certain length, the cell can no longer divide. Research has shown that longer telomeres are associated with a longer lifespan. Scientists are working on ways to lengthen telomeres, potentially leading to a longer lifespan.\n",
      "\n",
      "2. Stem Cell Research: Stem cells have the ability to turn into any other cell type in the body. They are also able to divide indefinitely, which could potentially lead to a longer lifespan. Research is focused on understanding how to manipulate stem cells to promote healthy aging.\n",
      "\n",
      "3. Epigenetics: Epigenetics is the study of heritable changes in gene function that occur without a change in the underlying DNA sequence. Epigenetic changes can influence aging and longevity. Researchers are studying how to manipulate epigenetic changes to promote healthy aging.\n",
      "\n",
      "4. Nutrition and Diet: A diet rich in fruits, vegetables, and whole grains, and low in processed foods, sugar, and saturated fats, has been linked to a longer lifespan. Research is ongoing to understand the specific nutrients and dietary patterns that promote longevity.\n",
      "\n",
      "5. Exercise: Regular physical activity has been shown to promote healthy aging and longevity. Research is ongoing to understand the specific effects of exercise on aging and longevity.\n",
      "\n",
      "6. Stress Management: Chronic stress can accelerate aging. Research is focusing on ways to manage stress effectively, such as through mindfulness, meditation, and other stress-reduction techniques.\n",
      "\n",
      "7. Longevity Genes: Some people have genes that help them live longer than others. Researchers are studying these genes to understand how they work and how they can be manipulated to promote healthy aging.\n",
      "\n",
      "8. Sleep: Sleep is crucial for health and longevity. Research is ongoing to understand the specific effects of sleep on aging and longevity.\n",
      "\n",
      "9. Social Connection: Social isolation can accelerate aging. Research is focusing on ways to promote social connection and community engagement to promote healthy aging.\n",
      "\n",
      "10. Brain Health: The brain is a critical component of aging and longevity. Research is ongoing to understand how to promote healthy brain aging, including the effects of diet, exercise, and stress management on brain health.\n",
      "\n",
      "Remember, while research is promising, it's important to note that these areas are still in the early stages of study, and more research is needed to fully understand the effects of each of these factors on aging and longevity.<|im_end|>\n"
     ]
    }
   ],
   "source": [
    "from transformers import AutoModelForCausalLM, AutoTokenizer\n",
    "checkpoint = \"HuggingFaceTB/SmolLM2-1.7B-Instruct\"\n",
    "\n",
    "device = \"cuda\" # for GPU usage or \"cpu\" for CPU usage\n",
    "tokenizer = AutoTokenizer.from_pretrained(checkpoint)\n",
    "# for multiple GPUs install accelerate and do `model = AutoModelForCausalLM.from_pretrained(checkpoint, device_map=\"auto\")`\n",
    "model = AutoModelForCausalLM.from_pretrained(checkpoint).to(device)\n",
    "\n",
    "messages = [{\"role\": \"user\", \"content\": \"I need you to assist me in my research. I'm researching aging and longevity. I'm looking for a way to extend human lifespan. What are the most promising areas of research in this field?\"}]\n",
    "input_text=tokenizer.apply_chat_template(messages, tokenize=False)\n",
    "inputs = tokenizer.encode(input_text, return_tensors=\"pt\").to(device)\n",
    "outputs = model.generate(inputs, max_new_tokens=1024, temperature=0.4, top_p=0.9, do_sample=True)\n",
    "print(tokenizer.decode(outputs[0]))\n"
   ]
  },
  {
   "cell_type": "markdown",
   "metadata": {},
   "source": [
    "I need you to assist me in my research. I'm researching aging and longevity. I'm looking for a way to extend human lifespan. What are the most promising areas of research in this field?<|im_end|>\n",
    "<|im_start|>assistant\n",
    "Sure, I'd be happy to help you with your research on aging and longevity. Here are some of the most promising areas of research in this field:\n",
    "\n",
    "1. Telomere Length: Telomeres are the protective caps on the ends of chromosomes. They shorten with each cell division, and when they reach a certain length, the cell can no longer divide. Research has shown that longer telomeres are associated with a longer lifespan. Scientists are working on ways to lengthen telomeres, potentially leading to a longer lifespan.\n",
    "\n",
    "2. Stem Cell Research: Stem cells have the ability to turn into any other cell type in the body. They are also able to divide indefinitely, which could potentially lead to a longer lifespan. Research is focused on understanding how to manipulate stem cells to promote healthy aging.\n",
    "\n",
    "3. Epigenetics: Epigenetics is the study of heritable changes in gene function that occur without a change in the underlying DNA sequence. Epigenetic changes can influence aging and longevity. Researchers are studying how to manipulate epigenetic changes to promote healthy aging.\n",
    "\n",
    "4. Nutrition and Diet: A diet rich in fruits, vegetables, and whole grains, and low in processed foods, sugar, and saturated fats, has been linked to a longer lifespan. Research is ongoing to understand the specific nutrients and dietary patterns that promote longevity.\n",
    "\n",
    "5. Exercise: Regular physical activity has been shown to promote healthy aging and longevity. Research is ongoing to understand the specific effects of exercise on aging and longevity.\n",
    "\n",
    "6. Stress Management: Chronic stress can accelerate aging. Research is focusing on ways to manage stress effectively, such as through mindfulness, meditation, and other stress-reduction techniques.\n",
    "\n",
    "7. Longevity Genes: Some people have genes that help them live longer than others. Researchers are studying these genes to understand how they work and how they can be manipulated to promote healthy aging.\n",
    "\n",
    "8. Sleep: Sleep is crucial for health and longevity. Research is ongoing to understand the specific effects of sleep on aging and longevity.\n",
    "\n",
    "9. Social Connection: Social isolation can accelerate aging. Research is focusing on ways to promote social connection and community engagement to promote healthy aging.\n",
    "\n",
    "10. Brain Health: The brain is a critical component of aging and longevity. Research is ongoing to understand how to promote healthy brain aging, including the effects of diet, exercise, and stress management on brain health.\n",
    "\n",
    "Remember, while research is promising, it's important to note that these areas are still in the early stages of study, and more research is needed to fully understand the effects of each of these factors on aging and longevity.<|im_end|>"
   ]
  }
 ],
 "metadata": {
  "kernelspec": {
   "display_name": "openint",
   "language": "python",
   "name": "python3"
  },
  "language_info": {
   "codemirror_mode": {
    "name": "ipython",
    "version": 3
   },
   "file_extension": ".py",
   "mimetype": "text/x-python",
   "name": "python",
   "nbconvert_exporter": "python",
   "pygments_lexer": "ipython3",
   "version": "3.11.9"
  }
 },
 "nbformat": 4,
 "nbformat_minor": 2
}
